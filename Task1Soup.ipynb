{
 "cells": [
  {
   "cell_type": "code",
   "execution_count": 1,
   "metadata": {},
   "outputs": [
    {
     "ename": "KeyboardInterrupt",
     "evalue": "",
     "output_type": "error",
     "traceback": [
      "\u001b[0;31m---------------------------------------------------------------------------\u001b[0m",
      "\u001b[0;31mKeyboardInterrupt\u001b[0m                         Traceback (most recent call last)",
      "\u001b[0;32m<ipython-input-1-b2111e953629>\u001b[0m in \u001b[0;36m<module>\u001b[0;34m()\u001b[0m\n\u001b[1;32m     93\u001b[0m           5880, 6505, 9904]\n\u001b[1;32m     94\u001b[0m \u001b[0;34m\u001b[0m\u001b[0m\n\u001b[0;32m---> 95\u001b[0;31m \u001b[0mextract_mult_stocks\u001b[0m\u001b[0;34m(\u001b[0m\u001b[0mstocks\u001b[0m\u001b[0;34m)\u001b[0m\u001b[0;34m\u001b[0m\u001b[0m\n\u001b[0m\u001b[1;32m     96\u001b[0m \u001b[0;34m\u001b[0m\u001b[0m\n\u001b[1;32m     97\u001b[0m \u001b[0;34m\u001b[0m\u001b[0m\n",
      "\u001b[0;32m<ipython-input-1-b2111e953629>\u001b[0m in \u001b[0;36mextract_mult_stocks\u001b[0;34m(stocks)\u001b[0m\n\u001b[1;32m     84\u001b[0m         \u001b[0mextract_one_stock\u001b[0m\u001b[0;34m(\u001b[0m\u001b[0mstock\u001b[0m\u001b[0;34m)\u001b[0m\u001b[0;34m\u001b[0m\u001b[0m\n\u001b[1;32m     85\u001b[0m         \u001b[0mwait\u001b[0m \u001b[0;34m=\u001b[0m \u001b[0mrandom\u001b[0m\u001b[0;34m.\u001b[0m\u001b[0mrandint\u001b[0m\u001b[0;34m(\u001b[0m\u001b[0;36m10\u001b[0m\u001b[0;34m,\u001b[0m\u001b[0;36m20\u001b[0m\u001b[0;34m)\u001b[0m\u001b[0;34m\u001b[0m\u001b[0m\n\u001b[0;32m---> 86\u001b[0;31m         \u001b[0mtime\u001b[0m\u001b[0;34m.\u001b[0m\u001b[0msleep\u001b[0m\u001b[0;34m(\u001b[0m\u001b[0mwait\u001b[0m\u001b[0;34m)\u001b[0m\u001b[0;34m\u001b[0m\u001b[0m\n\u001b[0m\u001b[1;32m     87\u001b[0m \u001b[0;34m\u001b[0m\u001b[0m\n\u001b[1;32m     88\u001b[0m \u001b[0;31m# Extract Data for all 52 stocks\u001b[0m\u001b[0;34m\u001b[0m\u001b[0;34m\u001b[0m\u001b[0m\n",
      "\u001b[0;31mKeyboardInterrupt\u001b[0m: "
     ]
    }
   ],
   "source": [
    "from bs4 import BeautifulSoup\n",
    "import requests\n",
    "import pandas as pd\n",
    "import random\n",
    "import time\n",
    "try:                                    # Support Python 2 and 3\n",
    "    from urllib import urlopen, build_opener          \n",
    "except ImportError:                     \n",
    "    from urllib.request import urlopen, build_opener  \n",
    "    \n",
    "# Helper function to concatenate multiple dataframes into one excel sheet\n",
    "def concat_multiple_dfs(df_list, sheets, file_name, spaces):\n",
    "    writer = pd.ExcelWriter(file_name,engine='xlsxwriter')   \n",
    "    row = 0\n",
    "    for dataframe in df_list:\n",
    "        dataframe.to_excel(writer,sheet_name=sheets,startrow=row , startcol=0)   \n",
    "        row = row + len(dataframe.index) + spaces \n",
    "    writer.save()\n",
    "    \n",
    "# Helper function to open url\n",
    "def open_url(stock, date):\n",
    "    opener = build_opener()\n",
    "    opener.addheaders = [('User-agent', 'Mozilla/5.0')]\n",
    "    stocktable = opener.open('http://www.twse.com.tw/exchangeReport/STOCK_DAY?response=html&date=' \\\n",
    "        + date + '&stockNo=' +str(stock))\n",
    "    return stocktable.read()\n",
    "\n",
    "#Extract Data from Months January to May for one stock\n",
    "def extract_one_stock(stock):\n",
    "    datelist = ['20180101', '20180201', '20180301', '20180401', '20180501']\n",
    "    dflist = []\n",
    "    for date in datelist:        \n",
    "        page = open_url(stock, date)\n",
    "        soup = BeautifulSoup(page, 'html.parser')\n",
    "        table=soup.find('table')\n",
    "        #Generate lists\n",
    "        A=[]\n",
    "        B=[]\n",
    "        C=[]\n",
    "        D=[]\n",
    "        E=[]\n",
    "        F=[]\n",
    "        G=[]\n",
    "        H=[]\n",
    "        I=[]\n",
    "        \n",
    "        for row in table.find(\"tbody\").find_all(\"tr\"):\n",
    "            cells = row.find_all(\"td\")\n",
    "            if len(cells) == 9:\n",
    "                A.append(cells[0].find(text=True))\n",
    "                B.append(cells[1].find(text=True))\n",
    "                C.append(cells[2].find(text=True))\n",
    "                D.append(cells[3].find(text=True))\n",
    "                E.append(cells[4].find(text=True))\n",
    "                F.append(cells[5].find(text=True))\n",
    "                G.append(cells[6].find(text=True))\n",
    "                H.append(cells[7].find(text=True))\n",
    "                I.append(cells[8].find(text=True))\n",
    "            \n",
    "        df = pd.DataFrame(A,columns=['日期'])\n",
    "        df['成交股數']=B\n",
    "        df['成交金額']=C\n",
    "        df['開盤價']=D\n",
    "        df['最高價']=E\n",
    "        df['最低價']=F\n",
    "        df['收盤價']=G\n",
    "        df['漲跌價差']=H\n",
    "        df['成交筆數']=I\n",
    "        \n",
    "        dflist.append(df)\n",
    "    \n",
    "    empty_headers = []\n",
    "    for i in range(0,dflist[0].shape[1]):\n",
    "        empty_headers.append(\"\")\n",
    "\n",
    "    for i in range(1,len(dflist)):\n",
    "        dflist[i].columns = empty_headers\n",
    "    \n",
    "    concat_multiple_dfs(dflist, str(stock), str(stock)+'.xlsx', 1)\n",
    "\n",
    "    \n",
    "# Extract multiple stocks\n",
    "def extract_mult_stocks(stocks):\n",
    "    for stock in stocks:\n",
    "        extract_one_stock(stock)\n",
    "        wait = random.randint(10,20)\n",
    "        time.sleep(wait)\n",
    "\n",
    "# Extract Data for all 52 stocks \n",
    "stocks = [1101, 1102, 1216, 1301, 1303, 1326, 1402, 2002, 2105,\n",
    "          2227, 2301, 2303, 2308, 2317, 2327, 2330, 2352, 2354, 2357, 2382, 2395, 2408,\n",
    "          2409, 2412, 2454, 2474, 2609, 2610, 2633, 2801, 2823, 2880, 2881, 2882, 2883,\n",
    "          2884, 2885, 2886, 2887, 2890, 2891, 2892, 2912, 3008, 3045, 3481, 4904, 4938, 5871,\n",
    "          5880, 6505, 9904]\n",
    "\n",
    "extract_mult_stocks(stocks)\n",
    "        \n",
    "        "
   ]
  },
  {
   "cell_type": "code",
   "execution_count": null,
   "metadata": {
    "collapsed": true
   },
   "outputs": [],
   "source": []
  },
  {
   "cell_type": "code",
   "execution_count": null,
   "metadata": {
    "collapsed": true
   },
   "outputs": [],
   "source": []
  },
  {
   "cell_type": "code",
   "execution_count": null,
   "metadata": {
    "collapsed": true
   },
   "outputs": [],
   "source": []
  }
 ],
 "metadata": {
  "kernelspec": {
   "display_name": "Python 3",
   "language": "python",
   "name": "python3"
  },
  "language_info": {
   "codemirror_mode": {
    "name": "ipython",
    "version": 3
   },
   "file_extension": ".py",
   "mimetype": "text/x-python",
   "name": "python",
   "nbconvert_exporter": "python",
   "pygments_lexer": "ipython3",
   "version": "3.5.4"
  }
 },
 "nbformat": 4,
 "nbformat_minor": 2
}
