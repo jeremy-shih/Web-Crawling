{
 "cells": [
  {
   "cell_type": "code",
   "execution_count": 156,
   "metadata": {},
   "outputs": [
    {
     "ename": "KeyboardInterrupt",
     "evalue": "",
     "output_type": "error",
     "traceback": [
      "\u001b[0;31m---------------------------------------------------------------------------\u001b[0m",
      "\u001b[0;31mKeyboardInterrupt\u001b[0m                         Traceback (most recent call last)",
      "\u001b[0;32m<ipython-input-156-0c0c0b079862>\u001b[0m in \u001b[0;36m<module>\u001b[0;34m()\u001b[0m\n\u001b[1;32m     61\u001b[0m \u001b[0;31m#extract_one_stock(2890)\u001b[0m\u001b[0;34m\u001b[0m\u001b[0;34m\u001b[0m\u001b[0m\n\u001b[1;32m     62\u001b[0m \u001b[0;31m#extract_mult_stocks(stock2)\u001b[0m\u001b[0;34m\u001b[0m\u001b[0;34m\u001b[0m\u001b[0m\n\u001b[0;32m---> 63\u001b[0;31m \u001b[0mextract_mult_stocks\u001b[0m\u001b[0;34m(\u001b[0m\u001b[0mstocks\u001b[0m\u001b[0;34m)\u001b[0m\u001b[0;34m\u001b[0m\u001b[0m\n\u001b[0m\u001b[1;32m     64\u001b[0m \u001b[0;34m\u001b[0m\u001b[0m\n",
      "\u001b[0;32m<ipython-input-156-0c0c0b079862>\u001b[0m in \u001b[0;36mextract_mult_stocks\u001b[0;34m(stocks)\u001b[0m\n\u001b[1;32m     45\u001b[0m         \u001b[0mextract_one_stock\u001b[0m\u001b[0;34m(\u001b[0m\u001b[0mstock\u001b[0m\u001b[0;34m)\u001b[0m\u001b[0;34m\u001b[0m\u001b[0m\n\u001b[1;32m     46\u001b[0m         \u001b[0mwait\u001b[0m \u001b[0;34m=\u001b[0m \u001b[0mrandom\u001b[0m\u001b[0;34m.\u001b[0m\u001b[0mrandint\u001b[0m\u001b[0;34m(\u001b[0m\u001b[0;36m10\u001b[0m\u001b[0;34m,\u001b[0m\u001b[0;36m20\u001b[0m\u001b[0;34m)\u001b[0m\u001b[0;34m\u001b[0m\u001b[0m\n\u001b[0;32m---> 47\u001b[0;31m         \u001b[0mtime\u001b[0m\u001b[0;34m.\u001b[0m\u001b[0msleep\u001b[0m\u001b[0;34m(\u001b[0m\u001b[0mwait\u001b[0m\u001b[0;34m)\u001b[0m\u001b[0;34m\u001b[0m\u001b[0m\n\u001b[0m\u001b[1;32m     48\u001b[0m \u001b[0;34m\u001b[0m\u001b[0m\n\u001b[1;32m     49\u001b[0m \u001b[0;34m\u001b[0m\u001b[0m\n",
      "\u001b[0;31mKeyboardInterrupt\u001b[0m: "
     ]
    }
   ],
   "source": [
    "import requests\n",
    "from io import StringIO\n",
    "import pandas as pd \n",
    "import numpy as np\n",
    "import random\n",
    "import time\n",
    "\n",
    "# Helper function to concatenate multiple dataframes into one excel sheet\n",
    "def concat_multiple_dfs(df_list, sheets, file_name, spaces):\n",
    "    writer = pd.ExcelWriter(file_name,engine='xlsxwriter')   \n",
    "    row = 0\n",
    "    for dataframe in df_list:\n",
    "        dataframe.to_excel(writer,sheet_name=sheets,startrow=row , startcol=0)   \n",
    "        row = row + len(dataframe.index) + spaces \n",
    "    writer.save()\n",
    "    \n",
    "    \n",
    "    \n",
    "#Extract Data from Months January to May for one stock\n",
    "def extract_one_stock(stock):\n",
    "    datelist = ['20180101', '20180201', '20180301', '20180401', '20180501']\n",
    "    dflist = []\n",
    "    for date in datelist:\n",
    "        r = requests.post('http://www.twse.com.tw/exchangeReport/STOCK_DAY?response=csv&date=' \n",
    "                          + date + '&stockNo=' +str(stock))\n",
    "        dataframe = pd.read_csv(StringIO(\"\\n\".join([i.translate({ord(c): None for c in ' '})\n",
    "                                         for i in r.text.split('\\n') \n",
    "                                         if len(i.split('\",')) == 10])), header=0)\n",
    "        dataframe = dataframe.drop('Unnamed: 9', 1)\n",
    "        dflist.append(dataframe)\n",
    "\n",
    "    empty_headers = []\n",
    "    for i in range(0,dflist[0].shape[1]):\n",
    "        empty_headers.append(\"\")\n",
    "\n",
    "    for i in range(1,len(dflist)):\n",
    "        dflist[i].columns = empty_headers\n",
    "\n",
    "    concat_multiple_dfs(dflist, str(stock), str(stock)+'.xlsx', 1)\n",
    "    \n",
    "    \n",
    "# Extract multiple stocks\n",
    "def extract_mult_stocks(stocks):\n",
    "    for stock in stocks:\n",
    "        extract_one_stock(stock)\n",
    "        wait = random.randint(10,20)\n",
    "        time.sleep(wait)\n",
    "    \n",
    "    \n",
    "    \n",
    "# Extract Data for all 52 stocks \n",
    "stocks = [1101, 1102, 1216, 1301, 1303, 1326, 1402, 2002, 2105,\n",
    "          2227, 2301, 2303, 2308, 2317, 2327, 2330, 2352, 2354, 2357, 2382, 2395, 2408,\n",
    "          2409, 2412, 2454, 2474, 2609, 2610, 2633, 2801, 2823, 2880, 2881, 2882, 2883,\n",
    "          2884, 2885, 2886, 2887, 2890, 2891, 2892, 2912, 3008, 3045, 3481, 4904, 4938, 5871,\n",
    "          5880, 6505, 9904]\n",
    "\n",
    "stock2=[2412,2885]\n",
    "\n",
    "#extract_one_stock(9904)\n",
    "#extract_one_stock(2890)\n",
    "#extract_mult_stocks(stock2)\n",
    "extract_mult_stocks(stocks)\n",
    "\n"
   ]
  },
  {
   "cell_type": "code",
   "execution_count": null,
   "metadata": {},
   "outputs": [],
   "source": []
  },
  {
   "cell_type": "code",
   "execution_count": null,
   "metadata": {},
   "outputs": [],
   "source": []
  },
  {
   "cell_type": "code",
   "execution_count": null,
   "metadata": {},
   "outputs": [],
   "source": []
  }
 ],
 "metadata": {
  "kernelspec": {
   "display_name": "Python 3",
   "language": "python",
   "name": "python3"
  },
  "language_info": {
   "codemirror_mode": {
    "name": "ipython",
    "version": 3
   },
   "file_extension": ".py",
   "mimetype": "text/x-python",
   "name": "python",
   "nbconvert_exporter": "python",
   "pygments_lexer": "ipython3",
   "version": "3.6.4"
  }
 },
 "nbformat": 4,
 "nbformat_minor": 2
}
